{
 "cells": [
  {
   "cell_type": "code",
   "execution_count": null,
   "metadata": {
    "collapsed": true
   },
   "outputs": [],
   "source": [
    "import numpy as np \n",
    "import pandas as pd\n",
    "import matplotlib.pyplot as plt\n",
    "%matplotlib inline "
   ]
  },
  {
   "cell_type": "code",
   "execution_count": null,
   "metadata": {
    "collapsed": true
   },
   "outputs": [],
   "source": [
    "df = pd.read_csv(\"/home/hdp_teu_search/ljt/process/xcf_sample/test/features_20161130.txt\",header=None,sep=\"\\t\")"
   ]
  },
  {
   "cell_type": "code",
   "execution_count": null,
   "metadata": {
    "collapsed": false
   },
   "outputs": [],
   "source": [
    "df.head()"
   ]
  },
  {
   "cell_type": "code",
   "execution_count": null,
   "metadata": {
    "collapsed": false
   },
   "outputs": [],
   "source": [
    "df.columns=[\"docstruct_house_price\",\"docstruct_house_layout_area\",\"docstruct_house_property_buildyear\",\"docstruct_house_type_floor\",\"docstruct_house_type_allfloor\",\"docstruct_house_downpayment\",\"docstruct_house_monthpayment\",\"docstruct_house_position_community\",\"docstruct_house_adddays\",\"docstruct_house_region\",\"docstruct_trading_area\",\"docstruct_title_len\",\"docstruct_content_len\",\"query_local\",\"query_city\",\"query_region\",\"query_tra\"]\n",
    "df.head()"
   ]
  },
  {
   "cell_type": "code",
   "execution_count": null,
   "metadata": {
    "collapsed": false
   },
   "outputs": [],
   "source": [
    "df.describe()"
   ]
  },
  {
   "cell_type": "code",
   "execution_count": null,
   "metadata": {
    "collapsed": false
   },
   "outputs": [],
   "source": [
    "df=df.fillna(-9999)\n",
    "df.head()"
   ]
  },
  {
   "cell_type": "code",
   "execution_count": null,
   "metadata": {
    "collapsed": false
   },
   "outputs": [],
   "source": [
    "df.describe()"
   ]
  },
  {
   "cell_type": "code",
   "execution_count": null,
   "metadata": {
    "collapsed": false,
    "scrolled": true
   },
   "outputs": [],
   "source": [
    "#统计 缺失比率\n",
    "for column  in df.columns:\n",
    "    if -1!=column.find(\"doc\"):\n",
    "        print column,\"missing ratio:\",df[column][df[column]==-9999].count()*100.0/df[column].count(),\"%\"\n",
    "    else :\n",
    "        print column,\"missing ratio:\",df[column][df[column]== 0.0].count()*100.0/df[column].count(),\"%\"\n"
   ]
  },
  {
   "cell_type": "code",
   "execution_count": null,
   "metadata": {
    "collapsed": false
   },
   "outputs": [],
   "source": [
    "#将每列中 缺失值 剔除，然后 按等频划分（即按照 分位数 进行划分）\n",
    "for column  in df.columns:\n",
    "    if -1!=column.find(\"doc\"):\n",
    "        df[column].replace(-9999,np.nan,inplace=True)\n",
    "    else :\n",
    "        df[column].replace(0.0,np.nan,inplace=True)\n"
   ]
  },
  {
   "cell_type": "code",
   "execution_count": 123,
   "metadata": {
    "collapsed": false
   },
   "outputs": [
    {
     "data": {
      "text/plain": [
       "\"\\nfrom pandas import Series\\nhouse_price.plot(kind='hist',logx=True,logy=True)\\n\""
      ]
     },
     "execution_count": 123,
     "metadata": {},
     "output_type": "execute_result"
    }
   ],
   "source": [
    "#耗时太长，终止运行\n",
    "'''\n",
    "from pandas import Series\n",
    "house_price.plot(kind='hist',logx=True,logy=True)\n",
    "'''"
   ]
  },
  {
   "cell_type": "code",
   "execution_count": 148,
   "metadata": {
    "collapsed": false
   },
   "outputs": [],
   "source": [
    "#等频划分\n",
    "def conbineBins(bins):\n",
    "    items =[]\n",
    "    for i in range(len(bins)-1):\n",
    "        if bins[i]== bins[i+1]:\n",
    "            print \"bins warning:\",bins[i],\"==\",bins[i+1]\n",
    "            continue \n",
    "        item=str(bins[i])+\"~\"+str(bins[i+1])\n",
    "        items.append(item)\n",
    "    return items\n",
    "\n",
    "def getSetOfQcutValues(series,num):\n",
    "    qcutPos= [i*series.count()/num for i in range(num)]\n",
    "    return  [series.iloc[i] for i in qcutPos]\n"
   ]
  },
  {
   "cell_type": "code",
   "execution_count": 149,
   "metadata": {
    "collapsed": false
   },
   "outputs": [
    {
     "data": {
      "text/plain": [
       "['0.0~16.0',\n",
       " '16.0~20.0',\n",
       " '20.0~25.0',\n",
       " '25.0~28.0',\n",
       " '28.0~30.0',\n",
       " '30.0~35.0',\n",
       " '35.0~38.0',\n",
       " '38.0~40.0',\n",
       " '40.0~45.0',\n",
       " '45.0~48.0',\n",
       " '48.0~52.0',\n",
       " '52.0~57.5',\n",
       " '57.5~62.8',\n",
       " '62.8~69.0',\n",
       " '69.0~78.0',\n",
       " '78.0~88.0',\n",
       " '88.0~105.0',\n",
       " '105.0~137.0',\n",
       " '137.0~210.0',\n",
       " '210.0~55151309000.0']"
      ]
     },
     "execution_count": 149,
     "metadata": {},
     "output_type": "execute_result"
    }
   ],
   "source": [
    "#以单个 feature 做qcut测试\n",
    "feaDelNanSorted = df['docstruct_house_price'].dropna().sort_values()\n",
    "bins = getSetOfQcutValues(feaDelNanSorted,20)\n",
    "bins.append(feaDelNanSorted.iloc[-1])\n",
    "conbineBins(bins)"
   ]
  },
  {
   "cell_type": "code",
   "execution_count": 150,
   "metadata": {
    "collapsed": false
   },
   "outputs": [
    {
     "name": "stdout",
     "output_type": "stream",
     "text": [
      "docstruct_house_price :\n",
      "['0.0~16.0', '16.0~20.0', '20.0~25.0', '25.0~28.0', '28.0~30.0', '30.0~35.0', '35.0~38.0', '38.0~40.0', '40.0~45.0', '45.0~48.0', '48.0~52.0', '52.0~57.5', '57.5~62.8', '62.8~69.0', '69.0~78.0', '78.0~88.0', '88.0~105.0', '105.0~137.0', '137.0~210.0', '210.0~55151309000.0']\n",
      "docstruct_house_layout_area :\n",
      "['0.0~45.0', '45.0~54.0', '54.0~60.91', '60.91~68.0', '68.0~74.0', '74.0~80.0', '80.0~84.64', '84.64~88.6', '88.6~91.0', '91.0~95.7', '95.7~100.0', '100.0~105.0', '105.0~111.66', '111.66~119.38', '119.38~125.0', '125.0~132.0', '132.0~140.0', '140.0~154.0', '154.0~198.64', '198.64~158377.0']\n",
      "docstruct_house_property_buildyear :\n",
      "bins warning: 2010.0 == 2010.0\n",
      "bins warning: 2011.0 == 2011.0\n",
      "bins warning: 2012.0 == 2012.0\n",
      "['-12.0~1996.0', '1996.0~1999.0', '1999.0~2000.0', '2000.0~2003.0', '2003.0~2005.0', '2005.0~2006.0', '2006.0~2007.0', '2007.0~2008.0', '2008.0~2009.0', '2009.0~2010.0', '2010.0~2011.0', '2011.0~2012.0', '2012.0~2013.0', '2013.0~2014.0', '2014.0~2015.0', '2015.0~2016.0', '2016.0~20102010.0']\n",
      "docstruct_house_type_floor :\n",
      "bins warning: 2.0 == 2.0\n",
      "bins warning: 3.0 == 3.0\n",
      "bins warning: 4.0 == 4.0\n",
      "bins warning: 5.0 == 5.0\n",
      "bins warning: 5.0 == 5.0\n",
      "bins warning: 6.0 == 6.0\n",
      "bins warning: 7.0 == 7.0\n",
      "['-5.0~1.0', '1.0~2.0', '2.0~3.0', '3.0~4.0', '4.0~5.0', '5.0~6.0', '6.0~7.0', '7.0~9.0', '9.0~11.0', '11.0~14.0', '14.0~17.0', '17.0~22.0', '22.0~99.0']\n",
      "docstruct_house_type_allfloor :\n",
      "bins warning: 6.0 == 6.0\n",
      "bins warning: 6.0 == 6.0\n",
      "bins warning: 6.0 == 6.0\n",
      "bins warning: 6.0 == 6.0\n",
      "bins warning: 7.0 == 7.0\n",
      "bins warning: 7.0 == 7.0\n",
      "['0.0~4.0', '4.0~5.0', '5.0~6.0', '6.0~7.0', '7.0~8.0', '8.0~11.0', '11.0~14.0', '14.0~17.0', '17.0~18.0', '18.0~22.0', '22.0~26.0', '26.0~30.0', '30.0~32.0', '32.0~2009.0']\n",
      "docstruct_house_downpayment :\n",
      "['-2147483650.0~0.0', '0.0~5.0', '5.0~8.0', '8.0~9.0', '9.0~11.0', '11.0~12.0', '12.0~13.0', '13.0~14.0', '14.0~16.0', '16.0~17.0', '17.0~19.0', '19.0~20.0', '20.0~22.0', '22.0~24.0', '24.0~27.0', '27.0~32.0', '32.0~39.0', '39.0~50.0', '50.0~79.0', '79.0~150000000.0']\n",
      "docstruct_house_monthpayment :\n",
      "bins warning: 0.0 == 0.0\n",
      "['-2147483648.0~0.0', '0.0~964.0', '964.0~1269.0', '1269.0~1523.0', '1523.0~1726.0', '1726.0~1929.0', '1929.0~2132.0', '2132.0~2335.0', '2335.0~2538.0', '2538.0~2800.0', '2800.0~3045.0', '3045.0~3401.0', '3401.0~3807.0', '3807.0~4213.0', '4213.0~4822.0', '4822.0~5888.0', '5888.0~7614.0', '7614.0~12182.0', '12182.0~116067032.0']\n",
      "docstruct_house_position_community :\n",
      "['0.0~24840.0', '24840.0~309667.0', '309667.0~317115.0', '317115.0~338974.0', '338974.0~489288.0', '489288.0~615548.0', '615548.0~660276.0', '660276.0~671419.0', '671419.0~845959.0', '845959.0~860584.0', '860584.0~885536.0', '885536.0~902164.0', '902164.0~935124.0', '935124.0~969151.0', '969151.0~993359.0', '993359.0~1017616.0', '1017616.0~1035368.0', '1035368.0~1066247.0', '1066247.0~1091679.0', '1091679.0~12345678.0']\n",
      "docstruct_house_adddays :\n",
      "['3242.0~5903.0', '5903.0~5980.0', '5980.0~6014.0', '6014.0~6046.0', '6046.0~6062.0', '6062.0~6078.0', '6078.0~6091.0', '6091.0~6104.0', '6104.0~6114.0', '6114.0~6128.0', '6128.0~6139.0', '6139.0~6149.0', '6149.0~6157.0', '6157.0~6164.0', '6164.0~6168.0', '6168.0~6171.0', '6171.0~6174.0', '6174.0~6176.0', '6176.0~6177.0', '6177.0~6178.0']\n",
      "docstruct_house_region :\n",
      "['1.0~528.0', '528.0~833.0', '833.0~1193.0', '1193.0~2919.0', '2919.0~4666.0', '4666.0~5648.0', '5648.0~6679.0', '6679.0~7230.0', '7230.0~8520.0', '8520.0~9167.0', '9167.0~10117.0', '10117.0~10983.0', '10983.0~11836.0', '11836.0~12557.0', '12557.0~13542.0', '13542.0~14583.0', '14583.0~15413.0', '15413.0~18514.0', '18514.0~21957.0', '21957.0~25739.0']\n",
      "docstruct_trading_area :\n",
      "['10.0~3389.0', '3389.0~5318.0', '5318.0~6643.0', '6643.0~8267.0', '8267.0~9229.0', '9229.0~10899.0', '10899.0~11455.0', '11455.0~11864.0', '11864.0~12284.0', '12284.0~12920.0', '12920.0~13312.0', '13312.0~13752.0', '13752.0~14568.0', '14568.0~14889.0', '14889.0~15507.0', '15507.0~18323.0', '18323.0~18674.0', '18674.0~21534.0', '21534.0~23785.0', '23785.0~25739.0']\n",
      "docstruct_title_len :\n",
      "bins warning: 10.0 == 10.0\n",
      "bins warning: 16.0 == 16.0\n",
      "['0.0~10.0', '10.0~11.0', '11.0~12.0', '12.0~13.0', '13.0~15.0', '15.0~16.0', '16.0~17.0', '17.0~18.0', '18.0~19.0', '19.0~20.0', '20.0~21.0', '21.0~22.0', '22.0~23.0', '23.0~24.0', '24.0~25.0', '25.0~26.0', '26.0~28.0', '28.0~55.0']\n",
      "docstruct_content_len :\n",
      "['0.0~14.0', '14.0~18.0', '18.0~22.0', '22.0~25.0', '25.0~29.0', '29.0~33.0', '33.0~39.0', '39.0~47.0', '47.0~56.0', '56.0~68.0', '68.0~81.0', '81.0~96.0', '96.0~120.0', '120.0~161.0', '161.0~243.0', '243.0~452.0', '452.0~1105.0', '1105.0~2585.0', '2585.0~6103.0', '6103.0~60952.0']\n",
      "query_local :\n",
      "['1.0~102.0', '102.0~188.0', '188.0~276.0', '276.0~375.0', '375.0~471.0', '471.0~613.0', '613.0~740.0', '740.0~858.0', '858.0~993.0', '993.0~2041.0', '2041.0~2346.0', '2346.0~3331.0', '3331.0~5653.0', '5653.0~6700.0', '6700.0~7289.0', '7289.0~8951.0', '8951.0~10012.0', '10012.0~11161.0', '11161.0~14025.0', '14025.0~25735.0']\n",
      "query_city :\n",
      "['1.0~18.0', '18.0~102.0', '102.0~188.0', '188.0~222.0', '222.0~319.0', '319.0~375.0', '375.0~463.0', '463.0~556.0', '556.0~686.0', '686.0~791.0', '791.0~891.0', '891.0~1005.0', '1005.0~2038.0', '2038.0~2315.0', '2315.0~2398.0', '2398.0~3489.0', '3489.0~6700.0', '6700.0~7624.0', '7624.0~9875.0', '9875.0~18812.0']\n",
      "query_region :\n",
      "['8.0~111.0', '111.0~192.0', '192.0~277.0', '277.0~379.0', '379.0~524.0', '524.0~651.0', '651.0~775.0', '775.0~936.0', '936.0~1079.0', '1079.0~2017.0', '2017.0~3178.0', '3178.0~5283.0', '5283.0~5723.0', '5723.0~6703.0', '6703.0~7178.0', '7178.0~8522.0', '8522.0~9264.0', '9264.0~10088.0', '10088.0~11747.0', '11747.0~25373.0']\n",
      "query_tra :\n",
      "['10.0~2928.0', '2928.0~5259.0', '5259.0~5867.0', '5867.0~7066.0', '7066.0~8291.0', '8291.0~9073.0', '9073.0~10807.0', '10807.0~11132.0', '11132.0~11793.0', '11793.0~12090.0', '12090.0~12606.0', '12606.0~13164.0', '13164.0~13618.0', '13618.0~14573.0', '14573.0~14904.0', '14904.0~15776.0', '15776.0~18487.0', '18487.0~20326.0', '20326.0~22170.0', '22170.0~25735.0']\n"
     ]
    }
   ],
   "source": [
    "for column in df.columns:\n",
    "    feaDelNanSorted = df[column].dropna().sort_values()\n",
    "    bins = getSetOfQcutValues(feaDelNanSorted,20)\n",
    "    bins.append(feaDelNanSorted.iloc[-1])\n",
    "    print column,\":\\n\",conbineBins(bins)"
   ]
  },
  {
   "cell_type": "code",
   "execution_count": 151,
   "metadata": {
    "collapsed": false
   },
   "outputs": [
    {
     "data": {
      "text/plain": [
       "\"\\n#for column in df.columns:\\nfor column in ['docstruct_house_price']:\\n    feaDelNanSorted = df[column].dropna().sort_values()\\n    pd.qcut(feaDelNanSorted,50,labels=False,retbins=True,precision=1)#precision \\xe4\\xb8\\x8d\\xe8\\xb5\\xb7\\xe4\\xbd\\x9c\\xe7\\x94\\xa8\\xef\\xbc\\x9f\\n    \\n\\xe5\\xb8\\xb8\\xe5\\xb8\\xb8\\xe6\\x8a\\xa5\\xe9\\x94\\x99\\xef\\xbc\\x9aValueError: Bin edges must be unique\\n\\n\""
      ]
     },
     "execution_count": 151,
     "metadata": {},
     "output_type": "execute_result"
    }
   ],
   "source": [
    "'''\n",
    "#for column in df.columns:\n",
    "for column in ['docstruct_house_price']:\n",
    "    feaDelNanSorted = df[column].dropna().sort_values()\n",
    "    pd.qcut(feaDelNanSorted,50,labels=False,retbins=True,precision=1)#precision 不起作用？\n",
    "    \n",
    "常常报错：ValueError: Bin edges must be unique\n",
    "\n",
    "'''\n"
   ]
  },
  {
   "cell_type": "code",
   "execution_count": 156,
   "metadata": {
    "collapsed": true
   },
   "outputs": [],
   "source": [
    "def getSetOfQcutValues(series,num):\n",
    "    qcutPos= [i*series.count()/num for i in range(num)]\n",
    "    bins =  [series.iloc[i] for i in qcutPos]\n",
    "    #剔除相邻重复的值\n",
    "    binsJustify = list(set(bins))\n",
    "    binsJustify.sort(key= bins.index)\n",
    "    return binsJustify\n",
    "    "
   ]
  },
  {
   "cell_type": "code",
   "execution_count": 157,
   "metadata": {
    "collapsed": false
   },
   "outputs": [
    {
     "data": {
      "text/plain": [
       "[1, 2]"
      ]
     },
     "execution_count": 157,
     "metadata": {},
     "output_type": "execute_result"
    }
   ],
   "source": [
    "getSetOfQcutValues(Series([1,1,1,1,1,2,2,2,2]),5)"
   ]
  },
  {
   "cell_type": "code",
   "execution_count": null,
   "metadata": {
    "collapsed": true
   },
   "outputs": [],
   "source": []
  }
 ],
 "metadata": {
  "kernelspec": {
   "display_name": "Python [Root]",
   "language": "python",
   "name": "Python [Root]"
  },
  "language_info": {
   "codemirror_mode": {
    "name": "ipython",
    "version": 2
   },
   "file_extension": ".py",
   "mimetype": "text/x-python",
   "name": "python",
   "nbconvert_exporter": "python",
   "pygments_lexer": "ipython2",
   "version": "2.7.12"
  }
 },
 "nbformat": 4,
 "nbformat_minor": 0
}
